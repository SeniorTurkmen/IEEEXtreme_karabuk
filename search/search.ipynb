{
 "cells": [
  {
   "cell_type": "markdown",
   "metadata": {},
   "source": [
    "# Python'da Arama Algoritmaları - Başlangıç Seviyesi\n",
    "Merhaba! Bu notebook, iki temel arama algoritması olan Doğrusal Arama (Linear Search) ve İkili Arama (Binary Search) hakkında bilgi ve örnekler sunmaktadır."
   ]
  },
  {
   "cell_type": "markdown",
   "metadata": {},
   "source": [
    "## Arama Algoritmaları Nedir?\n",
    "Arama algoritmaları, bir veri yapısında bulunan bir öğeyi bulmak veya ona erişmek için kullanılan yöntemlerdir. Bir öğe aranırken, genellikle belirli bir hedef öğe belirlenir ve bu öğe bulunana kadar veri yapısı taranır."
   ]
  },
  {
   "cell_type": "markdown",
   "metadata": {},
   "source": [
    "## 1. Doğrusal Arama (Linear Search)\n",
    "**Tanım**: Doğrusal arama, bir veri setinde bir öğeyi aramanın en basit yöntemidir. Veri setinin başından başlayarak, hedef öğe bulunana kadar her bir öğe incelenir. Hedef öğe bulunduğunda arama işlemi sona erer ve tamamlanır.\n",
    "**Zaman Karmaşıklığı**: O(n) — Tüm öğeleri teker teker kontrol etmesi gerektiğinden, bu yöntem büyük veri setlerinde yavaş olabilir.\n",
    "\n",
    "![Linear Search](https://www.googleapis.com/download/storage/v1/b/kaggle-forum-message-attachments/o/inbox%2F13289230%2F809a753decb80b008ecbdedbfd4ad5e7%2F1.jpg?generation=1693981729827846&alt=media)"
   ]
  },
  {
   "cell_type": "code",
   "execution_count": null,
   "metadata": {},
   "outputs": [],
   "source": [
    "# Doğrusal Arama Örneği\n",
    "def linear_search(arr, target):\n",
    "    for i in range(len(arr)):\n",
    "        if arr[i] == target:\n",
    "            return i  # Hedef öğenin indeksini döndürür\n",
    "    return -1  # Öğe bulunamazsa -1 döndürür\n",
    "\n",
    "# Kullanım örneği\n",
    "array = [10, 23, 45, 70, 11, 15]\n",
    "result = linear_search(array, 70)\n",
    "print(\"Öğe bulundu:\", result)  # Çıktı: Öğe bulundu: 3"
   ]
  },
  {
   "cell_type": "markdown",
   "metadata": {},
   "source": [
    "## 2. İkili Arama (Binary Search)\n",
    "**Tanım**: İkili arama, sıralanmış bir dizide bir öğenin konumunu bulmak için kullanılan bir algoritmadır. Bu yöntemde, öğe her zaman dizinin ortasındaki öğede aranır. Eğer hedef öğe ortadaki öğeye eşitse, arama tamamlanır. Eğer eşit değilse, dizinin yarısı elenir ve arama diğer yarıda devam eder.\n",
    "**Zaman Karmaşıklığı**: O(log n) — Her yinelemede arama alanını yarıya indirerek daha hızlı sonuç verir. Ancak yalnızca sıralanmış listelerde kullanılabilir.\n",
    "**Not**: İkili arama yalnızca sıralı bir öğe listesi üzerinde uygulanabilir. Öğeler önceden sıralı değilse, önce sıralama işlemi yapılmalıdır.\n",
    "\n",
    "![Binary Search](https://www.googleapis.com/download/storage/v1/b/kaggle-forum-message-attachments/o/inbox%2F13289230%2F49b90083baf42115183a0bb8a1df2cb7%2F2.jpg?generation=1693981854084810&alt=media)"
   ]
  },
  {
   "cell_type": "code",
   "execution_count": null,
   "metadata": {},
   "outputs": [],
   "source": [
    "# İkili Arama Örneği\n",
    "def binary_search(arr, target):\n",
    "    left, right = 0, len(arr) - 1\n",
    "    while left <= right:\n",
    "        mid = left + (right - left) // 2\n",
    "        # Hedef öğeyi bulduysak ortadaki konum döndürülür\n",
    "        if arr[mid] == target:\n",
    "            return mid\n",
    "        # Hedef öğe ortadakinden küçükse sol tarafa bakılır\n",
    "        elif arr[mid] < target:\n",
    "            left = mid + 1\n",
    "        # Hedef öğe ortadakinden büyükse sağ tarafa bakılır\n",
    "        else:\n",
    "            right = mid - 1\n",
    "    return -1  # Öğe bulunamazsa -1 döndürür\n",
    "\n",
    "# Kullanım örneği\n",
    "sorted_array = [2, 8, 15, 23, 45, 70]\n",
    "result = binary_search(sorted_array, 23)\n",
    "print(\"Öğe bulundu:\", result)  # Çıktı: Öğe bulundu: 3"
   ]
  },
  {
   "cell_type": "markdown",
   "metadata": {},
   "source": [
    "## Özet:\n",
    "- **Doğrusal Arama (Linear Search)**: Basit ve sırasız diziler için uygundur, ancak büyük veri setlerinde yavaştır.\n",
    "- **İkili Arama (Binary Search)**: Daha hızlıdır ama yalnızca sıralı dizilerde kullanılabilir. Eğer diziniz sıralı değilse, önce sıralamanız gerekir (örneğin, `sort()` ile).\n",
    "\n",
    "Bir sonraki adım olarak sıralama algoritmalarını öğrenmek harika bir fikir! Özellikle şu algoritmaları inceleyebilirsin:\n",
    "- Seçmeli Sıralama (Selection Sort)\n",
    "- Balon Sıralama (Bubble Sort)\n",
    "- Birleştirmeli Sıralama (Merge Sort)\n",
    "- Hızlı Sıralama (Quick Sort)\n",
    "\n",
    "Bu sıralama algoritmalarını öğrenmek, arama algoritmalarını daha iyi anlaman ve verimli veri işleme tekniklerini kullanman için sağlam bir temel oluşturur."
   ]
  }
 ],
 "metadata": {
  "kernelspec": {
   "display_name": "Python 3",
   "language": "python",
   "name": "python3"
  },
  "language_info": {
   "codemirror_mode": {
    "name": "ipython",
    "version": 3
   },
   "file_extension": ".py",
   "mimetype": "text/x-python",
   "name": "python",
   "nbconvert_exporter": "python",
   "pygments_lexer": "ipython3",
   "version": "3.7.2"
  }
 },
 "nbformat": 4,
 "nbformat_minor": 1
}
